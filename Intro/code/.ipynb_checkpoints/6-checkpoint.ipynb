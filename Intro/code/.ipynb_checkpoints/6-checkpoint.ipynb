{
 "cells": [
  {
   "cell_type": "code",
   "execution_count": 3,
   "metadata": {},
   "outputs": [],
   "source": [
    "# standard Python imports\n",
    "import os\n",
    "import argparse\n",
    "import time\n",
    "import pickle\n",
    "\n",
    "# 3rd party libraries\n",
    "import numpy as np                              # this comes with Anaconda\n",
    "import pandas as pd                             # this comes with Anaconda\n",
    "import matplotlib.pyplot as plt                 # this comes with Anaconda\n",
    "from scipy.optimize import approx_fprime        # this comes with Anaconda\n",
    "from sklearn.tree import DecisionTreeClassifier # if using Anaconda, install with `conda install scikit-learn`\n",
    "\"\"\" NOTE:\n",
    "Python is nice, but it's not perfect. One horrible thing about Python is that a \n",
    "package might use different names for installation and importing. For example, \n",
    "seeing code with `import sklearn` you might sensibly try to install the package \n",
    "with `conda install sklearn` or `pip install sklearn`. But, in fact, the actual \n",
    "way to install it is `conda install scikit-learn` or `pip install scikit-learn`.\n",
    "Wouldn't it be lovely if the same name was used in both places, instead of \n",
    "`sklearn` and then `scikit-learn`? Please be aware of this annoying feature. \n",
    "\"\"\"\n",
    "\n",
    "# CPSC 340 code\n",
    "import utils\n",
    "import grads\n"
   ]
  },
  {
   "cell_type": "code",
   "execution_count": 4,
   "metadata": {},
   "outputs": [
    {
     "name": "stdout",
     "output_type": "stream",
     "text": [
      "Mode predictor error: 0.415\n"
     ]
    },
    {
     "ename": "NameError",
     "evalue": "name 'DecisionStumpEquality' is not defined",
     "output_type": "error",
     "traceback": [
      "\u001b[0;31m---------------------------------------------------------------------------\u001b[0m",
      "\u001b[0;31mNameError\u001b[0m                                 Traceback (most recent call last)",
      "\u001b[0;32m<ipython-input-4-2a2098397618>\u001b[0m in \u001b[0;36m<module>\u001b[0;34m\u001b[0m\n\u001b[1;32m     13\u001b[0m \u001b[0;34m\u001b[0m\u001b[0m\n\u001b[1;32m     14\u001b[0m         \u001b[0;31m# 3Evaluate decision stump\u001b[0m\u001b[0;34m\u001b[0m\u001b[0;34m\u001b[0m\u001b[0;34m\u001b[0m\u001b[0m\n\u001b[0;32m---> 15\u001b[0;31m \u001b[0mmodel\u001b[0m \u001b[0;34m=\u001b[0m \u001b[0mDecisionStumpEquality\u001b[0m\u001b[0;34m(\u001b[0m\u001b[0;34m)\u001b[0m\u001b[0;34m\u001b[0m\u001b[0;34m\u001b[0m\u001b[0m\n\u001b[0m\u001b[1;32m     16\u001b[0m \u001b[0mmodel\u001b[0m\u001b[0;34m.\u001b[0m\u001b[0mfit\u001b[0m\u001b[0;34m(\u001b[0m\u001b[0mX\u001b[0m\u001b[0;34m,\u001b[0m \u001b[0my\u001b[0m\u001b[0;34m)\u001b[0m\u001b[0;34m\u001b[0m\u001b[0;34m\u001b[0m\u001b[0m\n\u001b[1;32m     17\u001b[0m \u001b[0my_pred\u001b[0m \u001b[0;34m=\u001b[0m \u001b[0mmodel\u001b[0m\u001b[0;34m.\u001b[0m\u001b[0mpredict\u001b[0m\u001b[0;34m(\u001b[0m\u001b[0mX\u001b[0m\u001b[0;34m)\u001b[0m\u001b[0;34m\u001b[0m\u001b[0;34m\u001b[0m\u001b[0m\n",
      "\u001b[0;31mNameError\u001b[0m: name 'DecisionStumpEquality' is not defined"
     ]
    }
   ],
   "source": [
    "# 1Load citiesSmall dataset\n",
    "with open(os.path.join('..','data','citiesSmall.pkl'), 'rb') as f:\n",
    "    dataset = pickle.load(f)\n",
    "\n",
    "X = dataset[\"X\"]\n",
    "y = dataset[\"y\"]\n",
    "\n",
    "# 2Evaluate majority predictor model\n",
    "y_pred = np.zeros(y.size) + utils.mode(y)\n",
    "\n",
    "error = np.mean(y_pred != y)\n",
    "print(\"Mode predictor error: %.3f\" % error)\n",
    "\n",
    "        # 3Evaluate decision stump\n",
    "model = DecisionStumpEquality()\n",
    "model.fit(X, y)\n",
    "y_pred = model.predict(X)\n",
    "\n",
    "error = np.mean(y_pred != y) \n",
    "print(\"Decision Stump with inequality rule error: %.3f\"\n",
    "      % error)\n",
    "\n",
    "        # Plot result\n",
    "utils.plotClassifier(model, X, y)\n",
    "fname = os.path.join(\"..\", \"figs\", \"q6_decisionBoundary.pdf\")\n",
    "plt.savefig(fname)\n",
    "print(\"\\nFigure saved as '%s'\" % fname)"
   ]
  },
  {
   "cell_type": "code",
   "execution_count": 6,
   "metadata": {},
   "outputs": [],
   "source": [
    "class DecisionStumpErrorRate:\n",
    "\n",
    "    def __init__(self):\n",
    "        pass\n",
    "\n",
    "\n",
    "    def fit(self, X, y):\n",
    "        N, D = X.shape\n",
    "\n",
    "        # Get an array with the number of 0's, number of 1's, etc.\n",
    "        count = np.bincount(y)    \n",
    "        \n",
    "        # Get the index of the largest value in count.  \n",
    "        # Thus, y_mode is the mode (most popular value) of y\n",
    "        y_mode = np.argmax(count) \n",
    "\n",
    "        self.splitSat = y_mode\n",
    "        self.splitNot = None\n",
    "        self.splitVariable = None\n",
    "        self.splitValue = None\n",
    "\n",
    "        # If all the labels are the same, no need to split further\n",
    "        if np.unique(y).size <= 1:\n",
    "            return\n",
    "\n",
    "        minError = np.sum(y != y_mode)\n",
    "\n",
    "        # Loop over features looking for the best split\n",
    "        X = np.round(X)\n",
    "\n",
    "        for d in range(D):\n",
    "            for n in range(N):\n",
    "                # Choose value to equate to\n",
    "                value = X[n, d]\n",
    "\n",
    "                # Find most likely class for each split\n",
    "                y_sat = utils.mode(y[X[:,d] > value])\n",
    "                y_not = utils.mode(y[X[:,d] <= value])\n",
    "\n",
    "                # Make predictions\n",
    "                y_pred = y_sat * np.ones(N)\n",
    "                y_pred[X[:, d] <= value] = y_not\n",
    "\n",
    "                # Compute error\n",
    "                errors = np.sum(y_pred != y)\n",
    "\n",
    "                # Compare to minimum error so far\n",
    "                if errors < minError:\n",
    "                    # This is the lowest error, store this value\n",
    "                    minError = errors\n",
    "                    self.splitVariable = d\n",
    "                    self.splitValue = value\n",
    "                    self.splitSat = y_sat\n",
    "                    self.splitNot = y_not\n",
    "\n",
    "    def predict(self, X):\n",
    "\n",
    "        M, D = X.shape\n",
    "        X = np.round(X)\n",
    "\n",
    "        if self.splitVariable is None:\n",
    "            return self.splitSat * np.ones(M)\n",
    "\n",
    "        yhat = np.zeros(M)\n",
    "\n",
    "        for m in range(M):\n",
    "            if X[m, self.splitVariable] > self.splitValue:\n",
    "                yhat[m] = self.splitSat\n",
    "            else:\n",
    "                yhat[m] = self.splitNot\n",
    "\n",
    "        print(self.splitValue)\n",
    "        return yhat"
   ]
  },
  {
   "cell_type": "code",
   "execution_count": 7,
   "metadata": {},
   "outputs": [
    {
     "name": "stdout",
     "output_type": "stream",
     "text": [
      "36.0\n",
      "Decision Stump with inequality rule error: 0.265\n",
      "36.0\n",
      "\n",
      "Figure saved as '../figs/q6_2_decisionBoundary.pdf'\n"
     ]
    },
    {
     "data": {
      "image/png": "[encoded data removed]",
      "text/plain": [
       "<Figure size 432x288 with 1 Axes>"
      ]
     },
     "metadata": {
      "needs_background": "light"
     },
     "output_type": "display_data"
    }
   ],
   "source": [
    "# Load citiesSmall dataset\n",
    "with open(os.path.join('..','data','citiesSmall.pkl'), 'rb') as f:\n",
    "        dataset = pickle.load(f)\n",
    "\n",
    "X = dataset[\"X\"]\n",
    "y = dataset[\"y\"]\n",
    "\n",
    "        # Evaluate decision stump\n",
    "model = DecisionStumpErrorRate()\n",
    "model.fit(X, y)\n",
    "y_pred = model.predict(X)\n",
    "\n",
    "\n",
    "error = np.mean(y_pred != y)\n",
    "print(\"Decision Stump with inequality rule error: %.3f\" % error)\n",
    "\n",
    "        # Plot result\n",
    "utils.plotClassifier(model, X, y)\n",
    "\n",
    "\n",
    "\n",
    "fname = os.path.join(\"..\", \"figs\", \"q6_2_decisionBoundary.pdf\")\n",
    "plt.savefig(fname)\n",
    "print(\"\\nFigure saved as '%s'\" % fname)"
   ]
  },
  {
   "cell_type": "code",
   "execution_count": 8,
   "metadata": {},
   "outputs": [],
   "source": [
    "def entropy(p):\n",
    "    plogp = 0*p # initialize full of zeros\n",
    "    plogp[p>0] = p[p>0]*np.log(p[p>0]) # only do the computation when p>0\n",
    "    return -np.sum(plogp)\n",
    "\n",
    "def gain(a, b):\n",
    "    result = 0\n",
    "    for v in b:\n",
    "        result += sum(v) / sum(a) * entropy(v)\n",
    "    gain = entropy(a) - result\n",
    "    return gain\n",
    "    \n",
    "# This is not required, but one way to simplify the code is \n",
    "# to have this class inherit from DecisionStumpErrorRate.\n",
    "# Which methods (init, fit, predict) do you need to overwrite?\n",
    "class DecisionStumpInfoGain():\n",
    "    def __init__(self):\n",
    "        pass\n",
    "\n",
    "\n",
    "    def fit(self, X, y):\n",
    "        N, D = X.shape\n",
    "\n",
    "        # Get an array with the number of 0's, number of 1's, etc.\n",
    "        count = np.bincount(y)    \n",
    "        \n",
    "        # Get the index of the largest value in count.  \n",
    "        # Thus, y_mode is the mode (most popular value) of y\n",
    "        y_mode = np.argmax(count) \n",
    "\n",
    "        self.splitSat = y_mode\n",
    "        self.splitNot = None\n",
    "        self.splitVariable = None\n",
    "        self.splitValue = None\n",
    "\n",
    "        # If all the labels are the same, no need to split further\n",
    "        if np.unique(y).size <= 1:\n",
    "            return\n",
    "\n",
    "        minError = 1\n",
    "\n",
    "        # Loop over features looking for the best split\n",
    "        X = np.round(X)\n",
    "\n",
    "        for d in range(D):\n",
    "            for n in range(N):\n",
    "                # Choose value to equate to\n",
    "                value = X[n, d]\n",
    "\n",
    "                # Find most likely class for each split\n",
    "                y_sat = utils.mode(y[X[:,d] > value])\n",
    "                y_not = utils.mode(y[X[:,d] <= value])\n",
    "\n",
    "                # Make predictions\n",
    "                y_pred = y_sat * np.ones(N)\n",
    "                y_pred[X[:, d] <= value] = y_not\n",
    "\n",
    "                # Compute error\n",
    "                # errors = np.sum(y_pred != y)\n",
    "                # correct = np.sum(y_pred == y)\n",
    "                # count_pred = np.bincount(y_pred)    \n",
    "                \n",
    "                gaininfo = gain(y, y_pred)\n",
    "                \n",
    "                # Compare to minimum error so far\n",
    "                if gaininfo < minError:\n",
    "                    # This is the lowest error, store this value\n",
    "                    minError = gaininfo\n",
    "                    self.splitVariable = d\n",
    "                    self.splitValue = value\n",
    "                    self.splitSat = y_sat\n",
    "                    self.splitNot = y_not\n",
    "\n",
    "    def predict(self, X):\n",
    "\n",
    "        M, D = X.shape\n",
    "        X = np.round(X)\n",
    "\n",
    "        if self.splitVariable is None:\n",
    "            return self.splitSat * np.ones(M)\n",
    "\n",
    "        yhat = np.zeros(M)\n",
    "\n",
    "        for m in range(M):\n",
    "            if X[m, self.splitVariable] > self.splitValue:\n",
    "                yhat[m] = self.splitSat\n",
    "            else:\n",
    "                yhat[m] = self.splitNot\n",
    "\n",
    "        return yhat"
   ]
  },
  {
   "cell_type": "code",
   "execution_count": 9,
   "metadata": {},
   "outputs": [
    {
     "ename": "TypeError",
     "evalue": "'numpy.float64' object is not iterable",
     "output_type": "error",
     "traceback": [
      "\u001b[0;31m---------------------------------------------------------------------------\u001b[0m",
      "\u001b[0;31mTypeError\u001b[0m                                 Traceback (most recent call last)",
      "\u001b[0;32m<ipython-input-9-731627115697>\u001b[0m in \u001b[0;36m<module>\u001b[0;34m\u001b[0m\n\u001b[1;32m      8\u001b[0m         \u001b[0;31m# 3. Evaluate decision stump\u001b[0m\u001b[0;34m\u001b[0m\u001b[0;34m\u001b[0m\u001b[0;34m\u001b[0m\u001b[0m\n\u001b[1;32m      9\u001b[0m \u001b[0mmodel\u001b[0m \u001b[0;34m=\u001b[0m \u001b[0mDecisionStumpInfoGain\u001b[0m\u001b[0;34m(\u001b[0m\u001b[0;34m)\u001b[0m\u001b[0;34m\u001b[0m\u001b[0;34m\u001b[0m\u001b[0m\n\u001b[0;32m---> 10\u001b[0;31m \u001b[0mmodel\u001b[0m\u001b[0;34m.\u001b[0m\u001b[0mfit\u001b[0m\u001b[0;34m(\u001b[0m\u001b[0mX\u001b[0m\u001b[0;34m,\u001b[0m \u001b[0my\u001b[0m\u001b[0;34m)\u001b[0m\u001b[0;34m\u001b[0m\u001b[0;34m\u001b[0m\u001b[0m\n\u001b[0m\u001b[1;32m     11\u001b[0m \u001b[0my_pred\u001b[0m \u001b[0;34m=\u001b[0m \u001b[0mmodel\u001b[0m\u001b[0;34m.\u001b[0m\u001b[0mpredict\u001b[0m\u001b[0;34m(\u001b[0m\u001b[0mX\u001b[0m\u001b[0;34m)\u001b[0m\u001b[0;34m\u001b[0m\u001b[0;34m\u001b[0m\u001b[0m\n\u001b[1;32m     12\u001b[0m \u001b[0;34m\u001b[0m\u001b[0m\n",
      "\u001b[0;32m<ipython-input-8-9c082ce99e34>\u001b[0m in \u001b[0;36mfit\u001b[0;34m(self, X, y)\u001b[0m\n\u001b[1;32m     61\u001b[0m                 \u001b[0;31m# count_pred = np.bincount(y_pred)\u001b[0m\u001b[0;34m\u001b[0m\u001b[0;34m\u001b[0m\u001b[0;34m\u001b[0m\u001b[0m\n\u001b[1;32m     62\u001b[0m \u001b[0;34m\u001b[0m\u001b[0m\n\u001b[0;32m---> 63\u001b[0;31m                 \u001b[0mgaininfo\u001b[0m \u001b[0;34m=\u001b[0m \u001b[0mgain\u001b[0m\u001b[0;34m(\u001b[0m\u001b[0my\u001b[0m\u001b[0;34m,\u001b[0m \u001b[0my_pred\u001b[0m\u001b[0;34m)\u001b[0m\u001b[0;34m\u001b[0m\u001b[0;34m\u001b[0m\u001b[0m\n\u001b[0m\u001b[1;32m     64\u001b[0m \u001b[0;34m\u001b[0m\u001b[0m\n\u001b[1;32m     65\u001b[0m                 \u001b[0;31m# Compare to minimum error so far\u001b[0m\u001b[0;34m\u001b[0m\u001b[0;34m\u001b[0m\u001b[0;34m\u001b[0m\u001b[0m\n",
      "\u001b[0;32m<ipython-input-8-9c082ce99e34>\u001b[0m in \u001b[0;36mgain\u001b[0;34m(a, b)\u001b[0m\n\u001b[1;32m      7\u001b[0m     \u001b[0mresult\u001b[0m \u001b[0;34m=\u001b[0m \u001b[0;36m0\u001b[0m\u001b[0;34m\u001b[0m\u001b[0;34m\u001b[0m\u001b[0m\n\u001b[1;32m      8\u001b[0m     \u001b[0;32mfor\u001b[0m \u001b[0mv\u001b[0m \u001b[0;32min\u001b[0m \u001b[0mb\u001b[0m\u001b[0;34m:\u001b[0m\u001b[0;34m\u001b[0m\u001b[0;34m\u001b[0m\u001b[0m\n\u001b[0;32m----> 9\u001b[0;31m         \u001b[0mresult\u001b[0m \u001b[0;34m+=\u001b[0m \u001b[0msum\u001b[0m\u001b[0;34m(\u001b[0m\u001b[0mv\u001b[0m\u001b[0;34m)\u001b[0m \u001b[0;34m/\u001b[0m \u001b[0msum\u001b[0m\u001b[0;34m(\u001b[0m\u001b[0ma\u001b[0m\u001b[0;34m)\u001b[0m \u001b[0;34m*\u001b[0m \u001b[0mentropy\u001b[0m\u001b[0;34m(\u001b[0m\u001b[0mv\u001b[0m\u001b[0;34m)\u001b[0m\u001b[0;34m\u001b[0m\u001b[0;34m\u001b[0m\u001b[0m\n\u001b[0m\u001b[1;32m     10\u001b[0m     \u001b[0mgain\u001b[0m \u001b[0;34m=\u001b[0m \u001b[0mentropy\u001b[0m\u001b[0;34m(\u001b[0m\u001b[0ma\u001b[0m\u001b[0;34m)\u001b[0m \u001b[0;34m-\u001b[0m \u001b[0mresult\u001b[0m\u001b[0;34m\u001b[0m\u001b[0;34m\u001b[0m\u001b[0m\n\u001b[1;32m     11\u001b[0m     \u001b[0;32mreturn\u001b[0m \u001b[0mgain\u001b[0m\u001b[0;34m\u001b[0m\u001b[0;34m\u001b[0m\u001b[0m\n",
      "\u001b[0;31mTypeError\u001b[0m: 'numpy.float64' object is not iterable"
     ]
    }
   ],
   "source": [
    "# 1. Load citiesSmall dataset\n",
    "with open(os.path.join('..','data','citiesSmall.pkl'), 'rb') as f:\n",
    "        dataset = pickle.load(f)\n",
    "\n",
    "X = dataset[\"X\"]\n",
    "y = dataset[\"y\"]\n",
    "\n",
    "        # 3. Evaluate decision stump\n",
    "model = DecisionStumpInfoGain()\n",
    "model.fit(X, y)\n",
    "y_pred = model.predict(X)\n",
    "\n",
    "error = np.mean(y_pred != y)\n",
    "print(\"Decision Stump with info gain rule error: %.3f\" % error)\n",
    "\n",
    "# PLOT RESULT\n",
    "utils.plotClassifier(model, X, y)\n",
    "\n",
    "fname = os.path.join(\"..\", \"figs\", \"q6_3_decisionBoundary.pdf\")\n",
    "plt.savefig(fname)\n",
    "print(\"\\nFigure saved as '%s'\" % fname)"
   ]
  },
  {
   "cell_type": "code",
   "execution_count": 103,
   "metadata": {},
   "outputs": [],
   "source": [
    "import numpy as np\n",
    "\n",
    "class DecisionTree:\n",
    "\n",
    "    def __init__(self, max_depth, stump_class=DecisionStumpErrorRate):\n",
    "        self.max_depth = max_depth\n",
    "        self.stump_class = stump_class\n",
    "    \n",
    "\n",
    "    def fit(self, X, y):\n",
    "        # Fits a decision tree using greedy recursive splitting\n",
    "        N, D = X.shape\n",
    "        \n",
    "        # Learn a decision stump\n",
    "        splitModel = self.stump_class()\n",
    "        splitModel.fit(X, y)\n",
    "\n",
    "        if self.max_depth <= 1 or splitModel.splitVariable is None:\n",
    "            # If we have reached the maximum depth or the decision stump does\n",
    "            # nothing, use the decision stump\n",
    "\n",
    "            self.splitModel = splitModel\n",
    "            self.subModel1 = None\n",
    "            self.subModel0 = None\n",
    "            return\n",
    "        \n",
    "        # Fit a decision tree to each split, decreasing maximum depth by 1\n",
    "        j = splitModel.splitVariable\n",
    "        value = splitModel.splitValue\n",
    "\n",
    "        # Find indices of examples in each split\n",
    "        splitIndex1 = X[:,j] > value\n",
    "        splitIndex0 = X[:,j] <= value\n",
    "\n",
    "        # Fit decision tree to each split\n",
    "        self.splitModel = splitModel\n",
    "        self.subModel1 = DecisionTree(self.max_depth-1, stump_class=self.stump_class)\n",
    "        self.subModel1.fit(X[splitIndex1], y[splitIndex1])\n",
    "        self.subModel0 = DecisionTree(self.max_depth-1, stump_class=self.stump_class)\n",
    "        self.subModel0.fit(X[splitIndex0], y[splitIndex0])\n",
    "\n",
    "\n",
    "    def predict(self, X):\n",
    "        M, D = X.shape\n",
    "        y = np.zeros(M)\n",
    "\n",
    "        # GET VALUES FROM MODEL\n",
    "        splitVariable = self.splitModel.splitVariable\n",
    "        splitValue = self.splitModel.splitValue\n",
    "        splitSat = self.splitModel.splitSat\n",
    "\n",
    "        if splitVariable is None:\n",
    "            # If no further splitting, return the majority label\n",
    "            y = splitSat * np.ones(M)\n",
    "\n",
    "        # the case with depth=1, just a single stump.\n",
    "        elif self.subModel1 is None:\n",
    "            return self.splitModel.predict(X)\n",
    "\n",
    "        else:\n",
    "            # Recurse on both sub-models\n",
    "            j = splitVariable\n",
    "            value = splitValue\n",
    "\n",
    "            splitIndex1 = X[:,j] > value\n",
    "            splitIndex0 = X[:,j] <= value\n",
    "\n",
    "            y[splitIndex1] = self.subModel1.predict(X[splitIndex1])\n",
    "            y[splitIndex0] = self.subModel0.predict(X[splitIndex0])\n",
    "\n",
    "        return y\n",
    "        "
   ]
  },
  {
   "cell_type": "code",
   "execution_count": 130,
   "metadata": {},
   "outputs": [
    {
     "name": "stdout",
     "output_type": "stream",
     "text": [
      "-97.0\n",
      "-116.0\n",
      "Error: 0.215\n",
      "-97.0\n",
      "-116.0\n",
      "\n",
      "Figure saved as '../figs/q6_4_decisionBoundary.pdf'\n"
     ]
    },
    {
     "data": {
      "image/png": "[encoded data removed]",
      "text/plain": [
       "<Figure size 432x288 with 1 Axes>"
      ]
     },
     "metadata": {
      "needs_background": "light"
     },
     "output_type": "display_data"
    }
   ],
   "source": [
    "with open(os.path.join('..','data','citiesSmall.pkl'), 'rb') as f:\n",
    "        dataset = pickle.load(f)\n",
    "\n",
    "X = dataset[\"X\"]\n",
    "y = dataset[\"y\"]\n",
    "\n",
    "model = DecisionTree(max_depth=2,stump_class=DecisionStumpErrorRate)\n",
    "model.fit(X, y)\n",
    "\n",
    "y_pred = model.predict(X)\n",
    "error = np.mean(y_pred != y)\n",
    "\n",
    "print(\"Error: %.3f\" % error)\n",
    "        \n",
    "utils.plotClassifier(model, X, y)\n",
    "\n",
    "fname = os.path.join(\"..\", \"figs\", \"q6_4_decisionBoundary.pdf\")\n",
    "plt.savefig(fname)\n",
    "print(\"\\nFigure saved as '%s'\" % fname)"
   ]
  },
  {
   "cell_type": "code",
   "execution_count": 65,
   "metadata": {},
   "outputs": [
    {
     "name": "stdout",
     "output_type": "stream",
     "text": [
      "n = 400\n"
     ]
    }
   ],
   "source": [
    "with open(os.path.join('..','data','citiesSmall.pkl'), 'rb') as f:\n",
    "        dataset = pickle.load(f)\n",
    "        \n",
    "X = dataset[\"X\"]\n",
    "y = dataset[\"y\"]\n",
    "print(\"n = %d\" % X.shape[0])\n",
    "\n",
    "depths = np.arange(1,15) # depths to try"
   ]
  },
  {
   "cell_type": "code",
   "execution_count": 67,
   "metadata": {},
   "outputs": [
    {
     "name": "stdout",
     "output_type": "stream",
     "text": [
      "Our decision tree with DecisionStumpErrorRate took 7.384085 seconds\n"
     ]
    },
    {
     "data": {
      "text/plain": [
       "[<matplotlib.lines.Line2D at 0x1a1d041450>]"
      ]
     },
     "execution_count": 67,
     "metadata": {},
     "output_type": "execute_result"
    },
    {
     "data": {
      "image/png": "[encoded data removed]",
      "text/plain": [
       "<Figure size 432x288 with 1 Axes>"
      ]
     },
     "metadata": {
      "needs_background": "light"
     },
     "output_type": "display_data"
    }
   ],
   "source": [
    "t = time.time()\n",
    "my_tree_errors = np.zeros(depths.size)\n",
    "for i, max_depth in enumerate(depths):\n",
    "        model = DecisionTree(max_depth=max_depth)\n",
    "        model.fit(X, y)\n",
    "        y_pred = model.predict(X)\n",
    "        my_tree_errors[i] = np.mean(y_pred != y)\n",
    "print(\"Our decision tree with DecisionStumpErrorRate took %f seconds\" % (time.time()-t))\n",
    "        \n",
    "plt.plot(depths, my_tree_errors, label=\"errorrate\")"
   ]
  },
  {
   "cell_type": "code",
   "execution_count": 68,
   "metadata": {},
   "outputs": [
    {
     "name": "stdout",
     "output_type": "stream",
     "text": [
      "Our decision tree with DecisionStumpInfoGain took 7.767217 seconds\n"
     ]
    },
    {
     "data": {
      "text/plain": [
       "[<matplotlib.lines.Line2D at 0x107482090>]"
      ]
     },
     "execution_count": 68,
     "metadata": {},
     "output_type": "execute_result"
    },
    {
     "data": {
      "image/png": "[encoded data removed]",
      "text/plain": [
       "<Figure size 432x288 with 1 Axes>"
      ]
     },
     "metadata": {
      "needs_background": "light"
     },
     "output_type": "display_data"
    }
   ],
   "source": [
    "t = time.time()\n",
    "my_tree_errors_infogain = np.zeros(depths.size)\n",
    "for i, max_depth in enumerate(depths):\n",
    "        model = DecisionTree(max_depth=max_depth,stump_class=DecisionStumpInfoGain)\n",
    "        model.fit(X, y)\n",
    "        y_pred = model.predict(X)\n",
    "        my_tree_errors_infogain[i] = np.mean(y_pred != y)\n",
    "print(\"Our decision tree with DecisionStumpInfoGain took %f seconds\" % (time.time()-t))\n",
    "        \n",
    "plt.plot(depths, my_tree_errors_infogain, label=\"infogain\")"
   ]
  },
  {
   "cell_type": "code",
   "execution_count": 81,
   "metadata": {},
   "outputs": [
    {
     "name": "stdout",
     "output_type": "stream",
     "text": [
      "scikit-learn's decision tree took 0.033578 seconds\n"
     ]
    },
    {
     "data": {
      "image/png": "[encoded data removed]",
      "text/plain": [
       "<Figure size 432x288 with 1 Axes>"
      ]
     },
     "metadata": {
      "needs_background": "light"
     },
     "output_type": "display_data"
    },
    {
     "data": {
      "image/png": "[encoded data removed]",
      "text/plain": [
       "<Figure size 432x288 with 1 Axes>"
      ]
     },
     "metadata": {
      "needs_background": "light"
     },
     "output_type": "display_data"
    }
   ],
   "source": [
    "t = time.time()\n",
    "sklearn_tree_errors = np.zeros(depths.size)\n",
    "for i, max_depth in enumerate(depths):\n",
    "        model = DecisionTreeClassifier(max_depth=max_depth, criterion='entropy', random_state=1)\n",
    "        model.fit(X, y)\n",
    "        y_pred = model.predict(X)\n",
    "        sklearn_tree_errors[i] = np.mean(y_pred != y)\n",
    "print(\"scikit-learn's decision tree took %f seconds\" % (time.time()-t))\n",
    "plt.plot(depths, sklearn_tree_errors, label=\"sklearn\", linestyle=\":\", linewidth=3)\n",
    "\n",
    "plt.xlabel(\"Depth of tree\")\n",
    "plt.ylabel(\"Classification error\")\n",
    "plt.legend()\n",
    "fname = os.path.join(\"..\", \"figs\", \"q6_5_tree_errors.pdf\")\n",
    "plt.savefig(fname)\n",
    "\n",
    "model = DecisionTreeClassifier(max_depth=15, criterion='entropy', random_state=1)\n",
    "model.fit(X, y)\n",
    "utils.plotClassifier(model, X, y)\n"
   ]
  },
  {
   "cell_type": "code",
   "execution_count": null,
   "metadata": {},
   "outputs": [],
   "source": [
    "if X[i,2] > 37.6690\n",
    " if X[i,1] > -96.0901\n",
    " return 1\n",
    " else\n",
    " return 2\n",
    " end\n",
    "else\n",
    " if X[i,1] > -115.5776\n",
    " return 2\n",
    " else\n",
    " return 1\n",
    " end\n",
    "end\n"
   ]
  }
 ],
 "metadata": {
  "kernelspec": {
   "display_name": "Python 3",
   "language": "python",
   "name": "python3"
  },
  "language_info": {
   "codemirror_mode": {
    "name": "ipython",
    "version": 3
   },
   "file_extension": ".py",
   "mimetype": "text/x-python",
   "name": "python",
   "nbconvert_exporter": "python",
   "pygments_lexer": "ipython3",
   "version": "3.7.4"
  }
 },
 "nbformat": 4,
 "nbformat_minor": 2
}
