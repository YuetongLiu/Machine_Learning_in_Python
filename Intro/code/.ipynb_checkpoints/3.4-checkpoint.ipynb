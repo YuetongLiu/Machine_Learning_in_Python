{
 "cells": [
  {
   "cell_type": "code",
   "execution_count": 16,
   "metadata": {},
   "outputs": [
    {
     "data": {
      "text/plain": [
       "11"
      ]
     },
     "execution_count": 16,
     "metadata": {},
     "output_type": "execute_result"
    }
   ],
   "source": [
    "import numpy as np\n",
    "\n",
    "def example(x):\n",
    "    return np.sum(x**2)\n",
    "\n",
    "\n",
    "def example_grad(x):\n",
    "    return 2*x\n",
    "\n",
    "def foo(x):\n",
    "    result = 1\n",
    "    λ = 4 # this is here to make sure you're using Python 3\n",
    "    for x_i in x:\n",
    "        result += x_i**λ\n",
    "    return result\n",
    "\n",
    "def foo_grad(x):\n",
    "    \n",
    "    result = 0\n",
    "    λ = 3 \n",
    "    for x_i in x:\n",
    "        result += 4*x_i**λ\n",
    "    return result\n",
    "\n",
    "    \n",
    "def bar(x):\n",
    "    return np.prod(x)\n",
    "\n",
    "def bar_grad(x):\n",
    "    result = 0\n",
    "    for x_i in x:\n",
    "        result += np.prod(list(filter(lambda y: y != x_i , x))) \n",
    "    return result\n",
    " \n",
    "\n"
   ]
  },
  {
   "cell_type": "code",
   "execution_count": 7,
   "metadata": {},
   "outputs": [
    {
     "data": {
      "text/plain": [
       "range(-5, 5)"
      ]
     },
     "execution_count": 7,
     "metadata": {},
     "output_type": "execute_result"
    }
   ],
   "source": [
    "number_list = range(-5, 5)\n",
    "number_list\n",
    "#less_than_zero = list(filter(lambda x: x < 0, number_list))\n",
    "#print(less_than_zero)"
   ]
  },
  {
   "cell_type": "code",
   "execution_count": null,
   "metadata": {},
   "outputs": [],
   "source": []
  }
 ],
 "metadata": {
  "kernelspec": {
   "display_name": "Python 3",
   "language": "python",
   "name": "python3"
  },
  "language_info": {
   "codemirror_mode": {
    "name": "ipython",
    "version": 3
   },
   "file_extension": ".py",
   "mimetype": "text/x-python",
   "name": "python",
   "nbconvert_exporter": "python",
   "pygments_lexer": "ipython3",
   "version": "3.7.4"
  }
 },
 "nbformat": 4,
 "nbformat_minor": 2
}
