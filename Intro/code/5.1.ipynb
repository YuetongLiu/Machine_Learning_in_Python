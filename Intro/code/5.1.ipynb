{
 "cells": [
  {
   "cell_type": "code",
   "execution_count": 26,
   "metadata": {},
   "outputs": [],
   "source": [
    "# standard Python imports\n",
    "import os\n",
    "import argparse\n",
    "import time\n",
    "import pickle\n",
    "\n",
    "# 3rd party libraries\n",
    "import numpy as np                              # this comes with Anaconda\n",
    "import pandas as pd                             # this comes with Anaconda\n",
    "import matplotlib.pyplot as plt                 # this comes with Anaconda\n",
    "from scipy.optimize import approx_fprime        # this comes with Anaconda\n",
    "from sklearn.tree import DecisionTreeClassifier # if using Anaconda, install with `conda install scikit-learn`\n",
    "import sklearn\n",
    "\n"
   ]
  },
  {
   "cell_type": "code",
   "execution_count": 37,
   "metadata": {},
   "outputs": [],
   "source": [
    "import utils\n",
    "import grads"
   ]
  },
  {
   "cell_type": "code",
   "execution_count": 50,
   "metadata": {},
   "outputs": [
    {
     "data": {
      "text/html": [
       "<div>\n",
       "<style scoped>\n",
       "    .dataframe tbody tr th:only-of-type {\n",
       "        vertical-align: middle;\n",
       "    }\n",
       "\n",
       "    .dataframe tbody tr th {\n",
       "        vertical-align: top;\n",
       "    }\n",
       "\n",
       "    .dataframe thead th {\n",
       "        text-align: right;\n",
       "    }\n",
       "</style>\n",
       "<table border=\"1\" class=\"dataframe\">\n",
       "  <thead>\n",
       "    <tr style=\"text-align: right;\">\n",
       "      <th></th>\n",
       "      <th>NE</th>\n",
       "      <th>MidAtl</th>\n",
       "      <th>ENCentral</th>\n",
       "      <th>WNCentral</th>\n",
       "      <th>SAt1</th>\n",
       "      <th>ESCentral</th>\n",
       "      <th>WSCentral</th>\n",
       "      <th>Mtn</th>\n",
       "      <th>Pac</th>\n",
       "      <th>WtdILI</th>\n",
       "    </tr>\n",
       "  </thead>\n",
       "  <tbody>\n",
       "    <tr>\n",
       "      <td>count</td>\n",
       "      <td>52.000000</td>\n",
       "      <td>52.000000</td>\n",
       "      <td>52.000000</td>\n",
       "      <td>52.000000</td>\n",
       "      <td>52.000000</td>\n",
       "      <td>52.000000</td>\n",
       "      <td>52.000000</td>\n",
       "      <td>52.000000</td>\n",
       "      <td>52.000000</td>\n",
       "      <td>52.000000</td>\n",
       "    </tr>\n",
       "    <tr>\n",
       "      <td>mean</td>\n",
       "      <td>1.223346</td>\n",
       "      <td>1.233538</td>\n",
       "      <td>1.275269</td>\n",
       "      <td>1.460212</td>\n",
       "      <td>1.298827</td>\n",
       "      <td>1.562519</td>\n",
       "      <td>1.292346</td>\n",
       "      <td>1.270019</td>\n",
       "      <td>1.063212</td>\n",
       "      <td>1.566962</td>\n",
       "    </tr>\n",
       "    <tr>\n",
       "      <td>std</td>\n",
       "      <td>0.600227</td>\n",
       "      <td>0.567629</td>\n",
       "      <td>0.604401</td>\n",
       "      <td>0.814372</td>\n",
       "      <td>0.651459</td>\n",
       "      <td>0.828007</td>\n",
       "      <td>0.719825</td>\n",
       "      <td>0.893757</td>\n",
       "      <td>0.567485</td>\n",
       "      <td>0.864139</td>\n",
       "    </tr>\n",
       "    <tr>\n",
       "      <td>min</td>\n",
       "      <td>0.428000</td>\n",
       "      <td>0.483000</td>\n",
       "      <td>0.452000</td>\n",
       "      <td>0.464000</td>\n",
       "      <td>0.468000</td>\n",
       "      <td>0.554000</td>\n",
       "      <td>0.456000</td>\n",
       "      <td>0.352000</td>\n",
       "      <td>0.377000</td>\n",
       "      <td>0.606000</td>\n",
       "    </tr>\n",
       "    <tr>\n",
       "      <td>25%</td>\n",
       "      <td>0.728250</td>\n",
       "      <td>0.714750</td>\n",
       "      <td>0.711250</td>\n",
       "      <td>0.701750</td>\n",
       "      <td>0.737750</td>\n",
       "      <td>0.922250</td>\n",
       "      <td>0.708000</td>\n",
       "      <td>0.624250</td>\n",
       "      <td>0.556000</td>\n",
       "      <td>0.795250</td>\n",
       "    </tr>\n",
       "    <tr>\n",
       "      <td>50%</td>\n",
       "      <td>1.129500</td>\n",
       "      <td>1.116000</td>\n",
       "      <td>1.265000</td>\n",
       "      <td>1.277500</td>\n",
       "      <td>1.102500</td>\n",
       "      <td>1.416500</td>\n",
       "      <td>1.107500</td>\n",
       "      <td>0.978500</td>\n",
       "      <td>0.957000</td>\n",
       "      <td>1.303500</td>\n",
       "    </tr>\n",
       "    <tr>\n",
       "      <td>75%</td>\n",
       "      <td>1.663000</td>\n",
       "      <td>1.710750</td>\n",
       "      <td>1.656250</td>\n",
       "      <td>1.993000</td>\n",
       "      <td>1.756500</td>\n",
       "      <td>2.084000</td>\n",
       "      <td>1.757750</td>\n",
       "      <td>1.695750</td>\n",
       "      <td>1.458000</td>\n",
       "      <td>2.343000</td>\n",
       "    </tr>\n",
       "    <tr>\n",
       "      <td>max</td>\n",
       "      <td>2.310000</td>\n",
       "      <td>2.205000</td>\n",
       "      <td>2.515000</td>\n",
       "      <td>3.115000</td>\n",
       "      <td>2.714000</td>\n",
       "      <td>3.859000</td>\n",
       "      <td>3.219000</td>\n",
       "      <td>4.862000</td>\n",
       "      <td>2.660000</td>\n",
       "      <td>3.260000</td>\n",
       "    </tr>\n",
       "  </tbody>\n",
       "</table>\n",
       "</div>"
      ],
      "text/plain": [
       "              NE     MidAtl  ENCentral  WNCentral       SAt1  ESCentral  \\\n",
       "count  52.000000  52.000000  52.000000  52.000000  52.000000  52.000000   \n",
       "mean    1.223346   1.233538   1.275269   1.460212   1.298827   1.562519   \n",
       "std     0.600227   0.567629   0.604401   0.814372   0.651459   0.828007   \n",
       "min     0.428000   0.483000   0.452000   0.464000   0.468000   0.554000   \n",
       "25%     0.728250   0.714750   0.711250   0.701750   0.737750   0.922250   \n",
       "50%     1.129500   1.116000   1.265000   1.277500   1.102500   1.416500   \n",
       "75%     1.663000   1.710750   1.656250   1.993000   1.756500   2.084000   \n",
       "max     2.310000   2.205000   2.515000   3.115000   2.714000   3.859000   \n",
       "\n",
       "       WSCentral        Mtn        Pac     WtdILI  \n",
       "count  52.000000  52.000000  52.000000  52.000000  \n",
       "mean    1.292346   1.270019   1.063212   1.566962  \n",
       "std     0.719825   0.893757   0.567485   0.864139  \n",
       "min     0.456000   0.352000   0.377000   0.606000  \n",
       "25%     0.708000   0.624250   0.556000   0.795250  \n",
       "50%     1.107500   0.978500   0.957000   1.303500  \n",
       "75%     1.757750   1.695750   1.458000   2.343000  \n",
       "max     3.219000   4.862000   2.660000   3.260000  "
      ]
     },
     "execution_count": 50,
     "metadata": {},
     "output_type": "execute_result"
    }
   ],
   "source": [
    "df = pd.read_csv(os.path.join('..','data','fluTrends.csv'))\n",
    "X = df.values\n",
    "names = df.columns.values\n",
    "df.describe()"
   ]
  },
  {
   "cell_type": "code",
   "execution_count": 56,
   "metadata": {},
   "outputs": [
    {
     "data": {
      "text/plain": [
       "0.35200000000000004"
      ]
     },
     "execution_count": 56,
     "metadata": {},
     "output_type": "execute_result"
    }
   ],
   "source": [
    "a = np.concatenate(np.array(df))\n",
    "np.min(a)"
   ]
  },
  {
   "cell_type": "code",
   "execution_count": 24,
   "metadata": {},
   "outputs": [
    {
     "data": {
      "text/plain": [
       "[0.428,\n",
       " 0.49,\n",
       " 0.452,\n",
       " 0.505,\n",
       " 0.542,\n",
       " 0.5539999999999999,\n",
       " 0.499,\n",
       " 0.35200000000000004,\n",
       " 0.377,\n",
       " 0.715]"
      ]
     },
     "execution_count": 24,
     "metadata": {},
     "output_type": "execute_result"
    }
   ],
   "source": []
  },
  {
   "cell_type": "code",
   "execution_count": 61,
   "metadata": {},
   "outputs": [
    {
     "data": {
      "text/plain": [
       "2.624049999999999"
      ]
     },
     "execution_count": 61,
     "metadata": {},
     "output_type": "execute_result"
    }
   ],
   "source": [
    "np.quantile(a,.95)"
   ]
  },
  {
   "cell_type": "code",
   "execution_count": 39,
   "metadata": {},
   "outputs": [
    {
     "data": {
      "text/plain": [
       "NE           2.24040\n",
       "MidAtl       2.17580\n",
       "ENCentral    2.24955\n",
       "WNCentral    2.93490\n",
       "SAt1         2.49135\n",
       "ESCentral    3.15795\n",
       "WSCentral    2.53795\n",
       "Mtn          2.80860\n",
       "Pac          2.13315\n",
       "WtdILI       3.12745\n",
       "Name: 0.95, dtype: float64"
      ]
     },
     "execution_count": 39,
     "metadata": {},
     "output_type": "execute_result"
    }
   ],
   "source": [
    "df.quantile(.95)"
   ]
  }
 ],
 "metadata": {
  "kernelspec": {
   "display_name": "Python 3",
   "language": "python",
   "name": "python3"
  },
  "language_info": {
   "codemirror_mode": {
    "name": "ipython",
    "version": 3
   },
   "file_extension": ".py",
   "mimetype": "text/x-python",
   "name": "python",
   "nbconvert_exporter": "python",
   "pygments_lexer": "ipython3",
   "version": "3.7.4"
  }
 },
 "nbformat": 4,
 "nbformat_minor": 2
}
